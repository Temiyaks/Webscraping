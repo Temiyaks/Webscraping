{
  "nbformat": 4,
  "nbformat_minor": 0,
  "metadata": {
    "colab": {
      "name": "Webscrapingof a shopify site.ipynb",
      "provenance": [],
      "collapsed_sections": [],
      "toc_visible": true
    },
    "kernelspec": {
      "name": "python3",
      "display_name": "Python 3"
    },
    "language_info": {
      "name": "python"
    }
  },
  "cells": [
    {
      "cell_type": "markdown",
      "metadata": {
        "id": "kp5809lXfQwi"
      },
      "source": [
        "PROJECT: This project is basically on how to web scrape  mutiple web pages. \n",
        "\n"
      ]
    },
    {
      "cell_type": "code",
      "metadata": {
        "id": "h5yOMPg0Ng5Z"
      },
      "source": [
        "\n",
        "import requests \n",
        "from bs4 import BeautifulSoup \n",
        "import requests\n",
        "import numpy as np\n",
        "import pandas as pd\n",
        "import matplotlib.pyplot as plt\n",
        "%matplotlib inline"
      ],
      "execution_count": 2,
      "outputs": []
    },
    {
      "cell_type": "markdown",
      "metadata": {
        "id": "CCtRZq_5fPpK"
      },
      "source": [
        ""
      ]
    },
    {
      "cell_type": "code",
      "metadata": {
        "id": "gz8FhiLkNn23",
        "colab": {
          "base_uri": "https://localhost:8080/"
        },
        "outputId": "0a8ab3a1-3a15-4c27-a6ee-6f81440c9c99"
      },
      "source": [
        "page = 1\n",
        "\n",
        "for page in range(1, 5):\n",
        "\n",
        "\n",
        "  #I  use f-strings  so that  {page} receive the current value of page,\n",
        "  url = f\"https://www.jumia.com.ng/smartphones/?page={page}#catalog-listing\"\n",
        "\n",
        "  print(url) #To print the four smartphones url."
      ],
      "execution_count": 3,
      "outputs": [
        {
          "output_type": "stream",
          "name": "stdout",
          "text": [
            "https://www.jumia.com.ng/smartphones/?page=1#catalog-listing\n",
            "https://www.jumia.com.ng/smartphones/?page=2#catalog-listing\n",
            "https://www.jumia.com.ng/smartphones/?page=3#catalog-listing\n",
            "https://www.jumia.com.ng/smartphones/?page=4#catalog-listing\n"
          ]
        }
      ]
    },
    {
      "cell_type": "code",
      "metadata": {
        "id": "E94LTzAvQoxL"
      },
      "source": [
        "#to create a variable that initially holds 1, beacuse we want to start scraping from page 1\n",
        "page = 1\n",
        "\n",
        "list_of_smartphones = [] # A list that will hold all the features we want to scrape\n",
        "\n",
        "\n",
        "#To scrape 100 pages in smartphones colection\n",
        "for page in range(1, 50):\n",
        "\n",
        "\n",
        "  #I  use f-strings for the url so that  {page} receive the current value of page,\n",
        "  url = f\"https://www.jumia.com.ng/smartphones/?page={page}#catalog-listing\"\n",
        "\n",
        "\n",
        "  #To get the url.\n",
        "  response = requests.get(url)\n",
        "  # print(response) #By printing response, we can see that the HTTP response status code is 200, which means that the request for the URL was successful:\n",
        "  \n",
        "  html = response.content # To see the html content\n",
        "\n",
        "  #lxml is the parser that is used on the html variable.\n",
        "  soup = BeautifulSoup(html, 'lxml') #To give us a defined structure HTML content\n",
        "\n",
        "\n",
        "  #To run a loop through the parent tags  holding all the smartphones\n",
        "  #Finds every smartphones in a given page\n",
        "  for phone in soup.find_all(\"article\", {\"class\": \"prd _fb col c-prd\"}):\n",
        "    \n",
        "    #Each smartphones’ name, spec, old price, new price, and rating\n",
        "    # is saved into a smartphone dictionary one by one; \n",
        "    #once a smartphone is fully created, it’s added to the smartphone list.\n",
        "    smartphone = {}\n",
        "\n",
        "    try:\n",
        "      smartphone[\"Phone_Brand\"] = phone.find(\"a\")[\"data-brand\"]\n",
        "    except None:\n",
        "      smartphone[\"Phone_Brand\"] = \"\"\n",
        "\n",
        "    try:\n",
        "      smartphone[\"Phone_Spec\"] = phone.find(\"a\")[\"data-name\"]\n",
        "    except None:\n",
        "       smartphone[\"Phone_Spec\"] = \"\"\n",
        "\n",
        "    # To get the old price of the smartphones\n",
        "    try:\n",
        "      price = phone.find(\"div\",{\"class\":\"old\"}).get_text()\n",
        "\n",
        "   \n",
        "      #conditions to clean the old  price we saw in the html tag (₦ 49,990)\n",
        "      if \",\" in price:\n",
        "        old_price = price.lstrip(\"₦ \").split(\",\")\n",
        "        old_price = \"\".join(old_price)\n",
        "        smartphone[\"Old_Price\"] = (old_price)\n",
        "      else:\n",
        "        old_price = price.lstrip(\"₦ \")\n",
        "        smartphone[\"Old_Price\"] = (old_price)\n",
        "\n",
        "    except:\n",
        "       smartphone[\"Old_Price\"] = \"\"\n",
        "\n",
        "    # To get the new price of the smartphones\n",
        "    try:\n",
        "      price = phone.find(\"div\",{\"class\":\"prc\"}).get_text()\n",
        "   \n",
        "    #conditions to clean the new  price we saw in the html tag (₦ 42,290)\n",
        "      if \",\" in price:\n",
        "        new_price = price.lstrip(\"₦ \").split(\",\")\n",
        "        new_price = \"\".join(new_price)\n",
        "        smartphone[\"New_Price\"] = (new_price)\n",
        "      else: \n",
        "        old_price = price.lstrip(\"₦ \")\n",
        "        smartphone[\"New_Price\"] = new_price\n",
        "\n",
        "         \n",
        "    except AttributeError :\n",
        "      smartphone[\"New_Price\"] = \"\"\n",
        "\n",
        "    #Rating\n",
        "    try:\n",
        "      smartphone[\"Ratings\"] = float(phone.find(\"div\", {'class':\"stars _s\"}).get_text().split()[0])\n",
        "    except AttributeError:\n",
        "      smartphone[\"Ratings\"] = \"\"\n",
        " \n",
        "      \n",
        "\n",
        "      \n",
        "    list_of_smartphones.append(smartphone)\n",
        "\n",
        "        \n",
        "\n",
        "     \n",
        "\n",
        "      \n",
        "  \n",
        "\n",
        "    \n",
        " \n",
        "      \n",
        "\n",
        "\n",
        "    \n",
        "\n",
        "\n",
        "\n",
        "\n",
        "\n",
        "    \n",
        "\n",
        "\n",
        "\n",
        "\n",
        "    \n",
        "\n",
        "\n",
        "\n",
        "\n",
        "\n",
        "\n",
        "\n"
      ],
      "execution_count": 4,
      "outputs": []
    },
    {
      "cell_type": "code",
      "metadata": {
        "id": "_66UTyObOD2V",
        "colab": {
          "base_uri": "https://localhost:8080/"
        },
        "outputId": "0f6d8855-4768-4903-f781-50b66cd094ac"
      },
      "source": [
        "#To see the first three smartphones\n",
        "for phone in list_of_smartphones[:3]:\n",
        "  print(phone)\n",
        "  "
      ],
      "execution_count": 5,
      "outputs": [
        {
          "output_type": "stream",
          "name": "stdout",
          "text": [
            "{'Phone_Brand': 'Gionee', 'Phone_Spec': 'S11 Lite 5.7-Inch HD (4GB,64GB ROM) Android 7.1 (13MP + 2MP) + 16MP Dual SIM 4G LTE Fingerprint ID Smartphone - Black', 'Old_Price': '49990', 'New_Price': '44290', 'Ratings': 4.1}\n",
            "{'Phone_Brand': 'QUBO', 'Phone_Spec': 'BIG1-6.26\" Screen,4500mAh Battery,16GB ROM,8MP Main Camera,Android 10,Fingerprint Unlock ,3G Android Smartphone', 'Old_Price': '33990', 'New_Price': '30990', 'Ratings': 3.9}\n",
            "{'Phone_Brand': 'QUBO', 'Phone_Spec': 'Big1 - 4500mAh Big Battery, 6.26\"WaterDrop Screen, 1GB+16GB Memory, 5MP+8MP Camera, Fingerprint,Android 10 Smartphone', 'Old_Price': '42990', 'New_Price': '29990', 'Ratings': 3.8}\n"
          ]
        }
      ]
    },
    {
      "cell_type": "code",
      "metadata": {
        "colab": {
          "base_uri": "https://localhost:8080/"
        },
        "id": "heT49oXxkV3C",
        "outputId": "e1e88ae7-4236-4ad7-cc08-2e571aff5d85"
      },
      "source": [
        "#The total numbers of smartphones in page 1 to 50\n",
        "len(list_of_smartphones)"
      ],
      "execution_count": 6,
      "outputs": [
        {
          "output_type": "execute_result",
          "data": {
            "text/plain": [
              "1960"
            ]
          },
          "metadata": {},
          "execution_count": 6
        }
      ]
    },
    {
      "cell_type": "code",
      "metadata": {
        "id": "IvGdqLLpOLyM",
        "colab": {
          "base_uri": "https://localhost:8080/",
          "height": 204
        },
        "outputId": "ba65ba74-84e7-4ee8-d9ef-8afeaaa29dc7"
      },
      "source": [
        "#To create a dataframe\n",
        "smartphone_df = pd.DataFrame(list_of_smartphones)\n",
        "smartphone_df.tail()"
      ],
      "execution_count": 7,
      "outputs": [
        {
          "output_type": "execute_result",
          "data": {
            "text/html": [
              "<div>\n",
              "<style scoped>\n",
              "    .dataframe tbody tr th:only-of-type {\n",
              "        vertical-align: middle;\n",
              "    }\n",
              "\n",
              "    .dataframe tbody tr th {\n",
              "        vertical-align: top;\n",
              "    }\n",
              "\n",
              "    .dataframe thead th {\n",
              "        text-align: right;\n",
              "    }\n",
              "</style>\n",
              "<table border=\"1\" class=\"dataframe\">\n",
              "  <thead>\n",
              "    <tr style=\"text-align: right;\">\n",
              "      <th></th>\n",
              "      <th>Phone_Brand</th>\n",
              "      <th>Phone_Spec</th>\n",
              "      <th>Old_Price</th>\n",
              "      <th>New_Price</th>\n",
              "      <th>Ratings</th>\n",
              "    </tr>\n",
              "  </thead>\n",
              "  <tbody>\n",
              "    <tr>\n",
              "      <th>1955</th>\n",
              "      <td>Itel</td>\n",
              "      <td>P37, 6.5HD+ Waterdrop Fullscreen, 32gb + 2gb R...</td>\n",
              "      <td>45000</td>\n",
              "      <td>43499</td>\n",
              "      <td></td>\n",
              "    </tr>\n",
              "    <tr>\n",
              "      <th>1956</th>\n",
              "      <td>Huawei</td>\n",
              "      <td>Y9a, 6.63-Inch (8GB RAM + 128GB ROM) Android 1...</td>\n",
              "      <td>175000</td>\n",
              "      <td>160000</td>\n",
              "      <td></td>\n",
              "    </tr>\n",
              "    <tr>\n",
              "      <th>1957</th>\n",
              "      <td>Samsung</td>\n",
              "      <td>Galaxy S20 Plus (S20+) 6.7'' (8GB 128GB ROM) A...</td>\n",
              "      <td>379500</td>\n",
              "      <td>369900</td>\n",
              "      <td>5</td>\n",
              "    </tr>\n",
              "    <tr>\n",
              "      <th>1958</th>\n",
              "      <td>Huawei</td>\n",
              "      <td>Mate 40 Pro 6.76-Inch (8GB RAM + 256GB ROM) An...</td>\n",
              "      <td></td>\n",
              "      <td>510000</td>\n",
              "      <td></td>\n",
              "    </tr>\n",
              "    <tr>\n",
              "      <th>1959</th>\n",
              "      <td>Itel</td>\n",
              "      <td>A56 Pro 5.99\" Screen, Android 9, 32GB ROM+2GB ...</td>\n",
              "      <td>45490</td>\n",
              "      <td>41490</td>\n",
              "      <td></td>\n",
              "    </tr>\n",
              "  </tbody>\n",
              "</table>\n",
              "</div>"
            ],
            "text/plain": [
              "     Phone_Brand  ... Ratings\n",
              "1955        Itel  ...        \n",
              "1956      Huawei  ...        \n",
              "1957     Samsung  ...       5\n",
              "1958      Huawei  ...        \n",
              "1959        Itel  ...        \n",
              "\n",
              "[5 rows x 5 columns]"
            ]
          },
          "metadata": {},
          "execution_count": 7
        }
      ]
    },
    {
      "cell_type": "markdown",
      "metadata": {
        "id": "SVIAY3zvq0CK"
      },
      "source": [
        "From here, we can do our cleaning and changing of dtypes and the likes before visulaiztion.\n"
      ]
    },
    {
      "cell_type": "code",
      "metadata": {
        "id": "-xwAYsUxORY3",
        "colab": {
          "base_uri": "https://localhost:8080/",
          "height": 204
        },
        "outputId": "96bd127a-64c2-4e75-a17f-05b05ac9fb82"
      },
      "source": [
        "smartphone_df.head()"
      ],
      "execution_count": 8,
      "outputs": [
        {
          "output_type": "execute_result",
          "data": {
            "text/html": [
              "<div>\n",
              "<style scoped>\n",
              "    .dataframe tbody tr th:only-of-type {\n",
              "        vertical-align: middle;\n",
              "    }\n",
              "\n",
              "    .dataframe tbody tr th {\n",
              "        vertical-align: top;\n",
              "    }\n",
              "\n",
              "    .dataframe thead th {\n",
              "        text-align: right;\n",
              "    }\n",
              "</style>\n",
              "<table border=\"1\" class=\"dataframe\">\n",
              "  <thead>\n",
              "    <tr style=\"text-align: right;\">\n",
              "      <th></th>\n",
              "      <th>Phone_Brand</th>\n",
              "      <th>Phone_Spec</th>\n",
              "      <th>Old_Price</th>\n",
              "      <th>New_Price</th>\n",
              "      <th>Ratings</th>\n",
              "    </tr>\n",
              "  </thead>\n",
              "  <tbody>\n",
              "    <tr>\n",
              "      <th>0</th>\n",
              "      <td>Gionee</td>\n",
              "      <td>S11 Lite 5.7-Inch HD (4GB,64GB ROM) Android 7....</td>\n",
              "      <td>49990</td>\n",
              "      <td>44290</td>\n",
              "      <td>4.1</td>\n",
              "    </tr>\n",
              "    <tr>\n",
              "      <th>1</th>\n",
              "      <td>QUBO</td>\n",
              "      <td>BIG1-6.26\" Screen,4500mAh Battery,16GB ROM,8MP...</td>\n",
              "      <td>33990</td>\n",
              "      <td>30990</td>\n",
              "      <td>3.9</td>\n",
              "    </tr>\n",
              "    <tr>\n",
              "      <th>2</th>\n",
              "      <td>QUBO</td>\n",
              "      <td>Big1 - 4500mAh Big Battery, 6.26\"WaterDrop Scr...</td>\n",
              "      <td>42990</td>\n",
              "      <td>29990</td>\n",
              "      <td>3.8</td>\n",
              "    </tr>\n",
              "    <tr>\n",
              "      <th>3</th>\n",
              "      <td>Itel</td>\n",
              "      <td>A35 5.0\" HD Screen, 1GB RAM + 16GB ROM, Androi...</td>\n",
              "      <td>28000</td>\n",
              "      <td>25390</td>\n",
              "      <td>4</td>\n",
              "    </tr>\n",
              "    <tr>\n",
              "      <th>4</th>\n",
              "      <td>Infinix</td>\n",
              "      <td>Smart 5 (X657)- 32gb ROM/ 2gb RAM- 6.6'' HD+ W...</td>\n",
              "      <td>50500</td>\n",
              "      <td>45490</td>\n",
              "      <td>4.6</td>\n",
              "    </tr>\n",
              "  </tbody>\n",
              "</table>\n",
              "</div>"
            ],
            "text/plain": [
              "  Phone_Brand  ... Ratings\n",
              "0      Gionee  ...     4.1\n",
              "1        QUBO  ...     3.9\n",
              "2        QUBO  ...     3.8\n",
              "3        Itel  ...       4\n",
              "4     Infinix  ...     4.6\n",
              "\n",
              "[5 rows x 5 columns]"
            ]
          },
          "metadata": {},
          "execution_count": 8
        }
      ]
    },
    {
      "cell_type": "code",
      "metadata": {
        "id": "JwWBMJoMQBMj"
      },
      "source": [
        "#To save it to csv\n",
        "smartphone_df.to_csv('smartphones.csv')"
      ],
      "execution_count": 9,
      "outputs": []
    },
    {
      "cell_type": "code",
      "metadata": {
        "id": "a0r7SiZBiQBE"
      },
      "source": [
        ""
      ],
      "execution_count": null,
      "outputs": []
    }
  ]
}